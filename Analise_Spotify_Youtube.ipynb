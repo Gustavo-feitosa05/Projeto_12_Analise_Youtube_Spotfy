{
 "cells": [
  {
   "cell_type": "markdown",
   "id": "a184754e",
   "metadata": {},
   "source": [
    "# 📊 Análise de Dados Musicais - Spotify & YouTube\n",
    "\n",
    "## 🎯 Contexto do Projeto\n",
    "\n",
    "**Você foi contratado pela Mateus Music** como Cientista de Dados para analisar o catálogo musical da empresa. Sua missão é explorar a base de dados contendo **mais de 20.000 músicas** e extrair insights valiosos sobre o desempenho dos artistas nas plataformas Spotify e YouTube.\n",
    "\n",
    "A empresa precisa entender:\n",
    "- Quem são os artistas mais relevantes\n",
    "- Quais músicas performam melhor\n",
    "- Como otimizar investimentos em marketing digital\n",
    "\n",
    "## 📁 Sobre a Base de Dados\n",
    "\n",
    "### Características Principais:\n",
    "- **+20.000 músicas** no catálogo completo\n",
    "- Dados de **Streams no Spotify** \n",
    "- Dados de **Views no YouTube**\n",
    "- **Links dos vídeos** do YouTube para cada música\n",
    "- **Metadados completos** de artistas e faixas"
   ]
  },
  {
   "cell_type": "markdown",
   "id": "20eb279b",
   "metadata": {},
   "source": [
    "### 1. Importe o Pandas e mostre as informações gerais do dataframe"
   ]
  },
  {
   "cell_type": "code",
   "execution_count": null,
   "id": "0105dc69",
   "metadata": {},
   "outputs": [],
   "source": []
  },
  {
   "cell_type": "code",
   "execution_count": null,
   "id": "a3f7380d",
   "metadata": {},
   "outputs": [],
   "source": []
  },
  {
   "cell_type": "markdown",
   "id": "ae2a7942",
   "metadata": {},
   "source": [
    "### 2. Mostre as cinco primeiras linhas do dataframe"
   ]
  },
  {
   "cell_type": "code",
   "execution_count": null,
   "id": "82dfc0cb",
   "metadata": {},
   "outputs": [],
   "source": []
  },
  {
   "cell_type": "markdown",
   "id": "156c2a12",
   "metadata": {},
   "source": [
    "### 3. Vamos ver quais os artistas temos em nosso df e contar quantos artistas diferentes temos no nosso dataset"
   ]
  },
  {
   "cell_type": "code",
   "execution_count": null,
   "id": "6fca9495",
   "metadata": {},
   "outputs": [],
   "source": []
  },
  {
   "cell_type": "markdown",
   "id": "d0860966",
   "metadata": {},
   "source": [
    "### 4. Quais os 10 artistas com mais musicas em nosso dataset?"
   ]
  },
  {
   "cell_type": "code",
   "execution_count": null,
   "id": "e9ac44d6",
   "metadata": {},
   "outputs": [],
   "source": [
    "### vamos verifcar os artistas com mais musicas na lista\n"
   ]
  },
  {
   "cell_type": "markdown",
   "id": "5cd81334",
   "metadata": {},
   "source": [
    "### 5. Quais as 5 músicas com musicas com mais views no youtube?"
   ]
  },
  {
   "cell_type": "code",
   "execution_count": null,
   "id": "06aafb7b",
   "metadata": {},
   "outputs": [],
   "source": [
    "### quero mostrar as 5 musicas com mais views no youtube\n"
   ]
  },
  {
   "cell_type": "markdown",
   "id": "f3e3c931",
   "metadata": {},
   "source": [
    "### 6. Quais os 5 artistas com mais streams no spotify?"
   ]
  },
  {
   "cell_type": "code",
   "execution_count": null,
   "id": "61105e48",
   "metadata": {},
   "outputs": [],
   "source": [
    "### Quais os 5 artistas com mais streams no spotify?\n"
   ]
  },
  {
   "cell_type": "markdown",
   "id": "754c3961",
   "metadata": {},
   "source": [
    "### 7. Vamos converter e salvar o arquivo com parquet, para subir no github"
   ]
  },
  {
   "cell_type": "code",
   "execution_count": null,
   "id": "7d5b8294",
   "metadata": {},
   "outputs": [],
   "source": [
    "### vamos converter o arquivo para parquet\n",
    "df.to_parquet('Dados_Artistas.parquet', index=False)"
   ]
  }
 ],
 "metadata": {
  "kernelspec": {
   "display_name": "Python 3",
   "language": "python",
   "name": "python3"
  },
  "language_info": {
   "codemirror_mode": {
    "name": "ipython",
    "version": 3
   },
   "file_extension": ".py",
   "mimetype": "text/x-python",
   "name": "python",
   "nbconvert_exporter": "python",
   "pygments_lexer": "ipython3",
   "version": "3.13.0"
  }
 },
 "nbformat": 4,
 "nbformat_minor": 5
}
